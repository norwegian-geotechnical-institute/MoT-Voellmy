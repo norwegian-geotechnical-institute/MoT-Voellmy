{
 "cells": [
  {
   "cell_type": "markdown",
   "id": "870e0c83-4381-4aad-a541-0f838d89892e",
   "metadata": {},
   "source": [
    "# Notes on using MoT-Voellmy"
   ]
  },
  {
   "cell_type": "markdown",
   "id": "cb6c2921-e341-42dd-bf02-c858171c323b",
   "metadata": {},
   "source": [
    "## General features\n",
    "\n",
    "MoT-Voellmy is NGI's model for calculating the run-out of snow avalanches. It is a *continuum model*, i.e., the avalanche is treated as a (fluid) body rather than as just a point mass as in the block models. Thus, the length, width and thickness of the flow are variable both in space and time. The dynamical equations governing the flow are derived from the requirement that mass and momentum must be conserved (if erosion and deposition along the path and the external forces of gravity and friction are properly accounted for). All of this will be discussed in more detail during one of the lectures.\n",
    "\n",
    "The \"trick\" behind numerical continuum models is to discretize space and time into sufficiently small finite time steps, line segments (in 1D), subareas (in 2D) or elementary volumes (in 3D). This procedure reduces the number of degrees of freedom from infinite to a finite number, so that the fundamental equations no longer are partial differential equations but (usually highly non-linear) algebraic equations. These can be solved numerically on a computer.\n",
    "\n",
    "In many respects, MoT-Voellmy is similar to the widely used (commercial) code [RAMMS::AVALANCHE](./Christen_et_al.RAMMS.CRST_63_2010.pdf), but its numerics are simpler, which makes it very fast. Both programs do not solve the basic equations for the 3D velocity vector $(u, v, w)$ in 3D, but instead assume the flow to always follow the terrain surface. This makes it possible to reduce the equations to 2D equations for the slope-parallel *depth-averaged* velocity $(\\bar{u}, \\bar{v})$ and the flow depth (or flow thickness) $h$, which is measured perpendicular to the terrain. Thus, one loses all information about the variability of $u$ and $v$ in the direction normal to the terrain. On the upside, the computational effort is reduced by some two orders-of-magnitude. Knowledge of the depth-averaged velocity is sufficient in most practical applications, like hazard mapping or dimensioning of mitigation measures.\n",
    "\n",
    "## Required input data\n",
    "\n",
    "MoT-Voellmy is started from the command line with one argument, the name of the *run configuration file* (RCF) as\n",
    "\n",
    "`<path to the code>/MoT-Voellmy.2022-10-29 <RCF>`\n",
    "\n",
    "on Linux and macOS, or as\n",
    "\n",
    "`<path to the code>\\MoT-Voellmy.2022-10-29.exe <RCF>`\n",
    "\n",
    "on MS Windows.\n",
    "\n",
    "In the RCF, the user specifies the spatial input data by listing the corresponding raster files and the model parameters. In the folder for MoT-Voellmy, there is a template RCF. All the data can be changed in a text editor, but all lines must be present and their sequence preserved (including comment lines starting with \\#). The keys on the left side must not be changed. The RCF should be renamed so that the user will still remember the purpose of the simulation some years later. It is recommended to save the RCFs in the folder or subfolder of the current project.\n",
    "\n",
    "**Auxiliary information:**  \n",
    "General information on the present run, not relevant for the program but for the user:  \n",
    "`MoT-Voellmy input file version          2021-10-25`   (do not change!)  \n",
    "`Area of Interest                        11192_Volda`  \n",
    "`UTM zone                                33N`  \n",
    "`EPSG geodetic datum code                25833`  \n",
    "`Run name                                RA6157_df2_v26_none`  \n",
    "\n",
    "**Flags:**  \n",
    "These parameters take the values `yes` or `no`, except for the flag `Entrainment` with options `none`, `RAMMS`, `TJEM`, `AvaFrame` or `GOEM`, the flag `Rheology`, which is presently limited to `Voellmy`, and the flag `Parameters` with the alternatives `constant` and `variable`. With `constant`, spatially constant values of $\\mu$ and $k$ are assumed (see below under *Physical parameters* and *Raster input data*). \n",
    "\n",
    "`Centrifugal effects                     yes`  \n",
    "If \"yes\". modifies the terrain-normal component of gravity as $g \\cos\\theta \\longrightarrow g \\cos\\theta + \\kappa (u^2+v^2)$.\n",
    "\n",
    "`Forest effects                          yes`  \n",
    "Enables or disables braking of the flow by the forest and breaking of the forest by the flow.\n",
    "\n",
    "`Entrainment                             none`  \n",
    "Selects no bed entrainment or one of three entrainment models. The options \"RAMMS\" or \"AvaFrame\" may produce unrealistic results.\n",
    "\n",
    "`Deposition                              no`  \n",
    "This option is not implemented in the present version of MoT-Voellmy.\n",
    "\n",
    "`Evolving geometry                       no`  \n",
    "If entrainment is enabled, the change of the terrain due to erosion is tracked and may induce self-channeling of the flow.\n",
    "\n",
    "`Write velocity vectors                  no`  \n",
    "If enabled, the code writes not only the modulus of the velocity, $\\sqrt{\\bar{u}^2 + \\bar{v}^2}$ but also its components $\\bar{u}$, $\\bar{v}$ to separate files.\n",
    "\n",
    "`Write maximum pressure                  no`  \n",
    "If enabled, the maximum impact pressure $p_{\\mathrm{imp}} = \\rho (\\bar{u}^2 + \\bar{v}^2)$ in each cell over the entire simulation is written to file.  \n",
    "`Write instant. pressure                 no`  \n",
    "If enabled, the instantaneous impact pressure $p_{\\mathrm{imp}} = \\rho (\\bar{u}^2 + \\bar{v}^2)$ in each cell is written to file whenever output is generated.\n",
    "\n",
    "**Physical parameters:**  \n",
    "`Gravitational acceleration   (m/s^2)    9.81`  \n",
    "This value can be changed to simulate extra-terrestrial or sub-marine landslides.\n",
    "\n",
    "`Density                     (kg/m^3)    250.0`  \n",
    "The flow density matters only for the impact pressure because the friction force is assumed proportional to $\\rho$.\n",
    "\n",
    "`Dry-friction coefficient         (-)    0.35`  \n",
    "`Turbulent drag coefficient       (-)    0.0023`  \n",
    "If the flag `Parameters` is set to `constant `, the values for $\\mu$ and $k$ must be set here. Else, raster file names containing the spatially variable values are to be specified instead.\n",
    "\n",
    "`Effective drag height            (m)    0.0`  \n",
    "This parameter modifies the flow-depth dependence of the drag term. If set to a very small value $0 < h_{\\mathrm{eff.}} \\ll 1\\,\\mathrm{m}$, the model behaves like the PCM model.\n",
    "\n",
    "`Passive earth-pressure coeff.    (-)    1.0`  \n",
    "Values < 1.0 can be used to stabilize the simulation in very rugged terrain by reducing the hydrostatic pressure between cells. Keep it at 1.0 whenever possible.\n",
    "\n",
    "**Numerical parameters**\n",
    "\n",
    "`Output filename root                    Run_26`  \n",
    "All generated output files will be given this prefix so different runs can be distinguished. It may also be of the form `<subfolder>/<some prefix>` to place the files in a separate subfolder.\n",
    "\n",
    "`Output format                           ESRI_ASCII_Grid`  \n",
    "The output raster files can be written either in ESRI ASCII Grid format (bulky but human readable) or in `BinaryTerrain` (version 1.3) format (faster and more compact). Both formats are understood by QGIS.\n",
    "\n",
    "`Simulation time                  (s)    180.0`  \n",
    "This value specifies after which simulated time the computation is stopped, even though some parts of the flow (typically in the tail) may sdtill be moving.\n",
    "\n",
    "`Minimum time step                (s)    0.0001`  \n",
    "`Maximum time step                (s)    0.5000`  \n",
    "`Initial CFL number               (-)    0.8`  \n",
    "In the time discretization, MoT-Voellmy uses variable timesteps to balance numerical stability (short timesteps) against efficiency (long timesteps). The timestep must be shorter the time it takes a wave to traverse a computational cell. The CFL number specifies how close to this theoretical limit the time step is allowed to be; this number must be < 1.0. The code keeps it, however, between the minimum and maximum time step chosen by the user. If the time step chosen by the code falls below the minimum value, the simulation has diverged and is stopped.\n",
    "\n",
    "`Output interval                  (s)    1.0`  \n",
    "Intermediate results are written to files at fixed intervals. At the end of the simulation, the maximum values, over the entire simulated interval, of $\\bar{u}$, $\\bar{v}$, $h$ and optionally of some other variables are written to files as well.\n",
    "\n",
    "`Minimum flow depth               (m)    0.05`  \n",
    "`Minimum speed                  (m/s)    0.1`  \n",
    "`Momentum threshold          (kg m/s)    100.0`  \n",
    "Cells in which the flow depth, the speed or the momentum fall below the specified values will be considered stopped. They may, however, be remobilized if mass from neighboring cells pushes them strongly enough to overcome friction.\n",
    "\n",
    "**Raster input data:**\n",
    "\n",
    "All the raster input data must be in ESRI ASCII Grid format and cover the same rectangular area at the same resolution. This means that soem clipping and interpolation may be required when preparing the data for a simulation.\n",
    "- *Digital terrain model* (DTM) over a rectangular area with a spatial resolution of typically 5–10 m (for snow avalanches). If the resolution is poorer, important terrain features are not properly resolved. If the resolution is much finer, the flow moves over terrain that is much more hummocky than the snow cover in wintertime. The grid must be regular, i.e., consist of square cells when projected onto a horizontal plane.  \n",
    "`Grid filename                           RA6157_dem.asc`\n",
    "- *Release area and fracture depth* are specified by the value 0 in non-release-area cells and the slab depth (in m, measured normal to the terrain) in the release area. There may be several disconnected release areas if one assumes they are released simultaneously. The fracture depth may vary inside a release area.  \n",
    "`Release depth filename                  RA6157_wf_h.asc`\n",
    "\n",
    "Depending on the desired simulation, several further raster files may need to be specified:\n",
    "- *Friction parameters $\\mu$ and $k$*: If the friction parameters are assumed to vary spatially variable (reflecting spatial variation of snow properties), they must be specified in two raster files. The dimensionless parameter $k$ relates to the traditional Voellmy parameter $\\xi$ with units m/s² as $k = g/\\xi$.  \n",
    "`Dry-friction coefficient         (-)    RA6157_mu.asc`  \n",
    "`Turbulent drag coefficient       (-)    RA6157_k.asc`\n",
    "In addition, set\n",
    "`Parameters                              variable`  \n",
    "- *Start velocity*: To start a simulation with the flow mass already in motion, one can specify the velocity components $\\bar{u}$ and $\\bar{v}$ (in m/s) in two raster files. If starting from rest, use hyphens instead of file names.\n",
    "`Start velocity u filename               -`\n",
    "`Start velocity v filename               -`\n",
    "- If *entrainment of bed material* shall be simulated, two raster files specifying the local initial depth $b_0$ (in m) and shear strength $\\tau_c$ (in Pa) of the erodible material must be supplied.  \n",
    "`Bed depth filename                      RA6157_b0.asc`  \n",
    "`Bed shear strength filename             RA6157_tauc.asc`\n",
    "- *Interaction of the flow with forest* requires two raster files giving the local values of $n\\cdot D$ and $D$, where $n$ in 1/m² is the local tree density and $D$ (in m) is the local average tree diameter. In addition a global value for the *modulus of rupture* (MoR, in MPa, default 50 MPa) characterizing the average rupture strength of the wood must be set in the RCF. Set this parameter to a very high value if you wish to disable breaking or uprooting of the trees.  \n",
    "`Forest density filename                 RA6157_nD.asc`  \n",
    "`Tree diameter filename                  RA6157_tD.asc`"
   ]
  },
  {
   "cell_type": "markdown",
   "id": "a6279e74-5195-4c3a-a6dc-52ed5b4ddbb9",
   "metadata": {},
   "source": [
    "---"
   ]
  },
  {
   "cell_type": "markdown",
   "id": "eaa487c2-f733-4bb1-8fd5-fb3b8024fa1b",
   "metadata": {},
   "source": [
    "Below, the file snippets shown above are assembled into a complete RCF:\n",
    "```\n",
    "# Run information\n",
    "#\n",
    "MoT-Voellmy input file version          2021-10-25\n",
    "Area of Interest                        11192_Volda\n",
    "UTM zone                                33N\n",
    "EPSG geodetic datum code                25833\n",
    "Run name                                RA6157_df2_v26_none\n",
    "#\n",
    "# File names\n",
    "#\n",
    "Grid filename                           RA6157_dem.asc\n",
    "Release depth filename                  RA6157_wf_h.asc\n",
    "Bed depth filename                      RA6157_b0.asc\n",
    "Bed shear strength filename             RA6157_tauc.asc\n",
    "Forest density filename                 RA6157_nD.asc\n",
    "Tree diameter filename                  RA6157_tD.asc\n",
    "Start velocity u filename               -\n",
    "Start velocity v filename               -\n",
    "Output filename root                    Run_26_none\n",
    "Output format                           ESRI_ASCII_Grid\n",
    "#\n",
    "# Physical parameters\n",
    "#\n",
    "Gravitational acceleration   (m/s^2)    9.81\n",
    "Density                     (kg/m^3)    250.0\n",
    "Rheology                                Voellmy\n",
    "Parameters                              variable\n",
    "Dry-friction coefficient         (-)    RA6157_mu.asc\n",
    "Turbulent drag coefficient       (-)    RA6157_k.asc\n",
    "Effective drag height            (m)    0.0\n",
    "Centrifugal effects                     yes\n",
    "Passive earth-pressure coeff.    (-)    1.0\n",
    "#\n",
    "Forest effects                          yes\n",
    "Tree drag coefficient            (-)    1.0\n",
    "Modulus of rupture             (MPa)    50.0\n",
    "Forest decay coefficient       (m s)    0.15\n",
    "#\n",
    "Entrainment                             none\n",
    "Erosion coefficient              (-)    0.0\n",
    "Bed strength profile                    global\n",
    "Bed friction coefficient         (-)    0.25\n",
    "Bed density                 (kg/m^3)    140.0\n",
    "Deposition                              no\n",
    "Evolving geometry                       no\n",
    "#\n",
    "# Numerical parameters\n",
    "#\n",
    "Simulation time                  (s)    180.0\n",
    "Minimum time step                (s)    0.0001\n",
    "Maximum time step                (s)    0.5000\n",
    "Output interval                  (s)    1000.0\n",
    "Write velocity vectors                  no\n",
    "Write maximum pressure                  no\n",
    "Write instant. pressure                 no\n",
    "Minimum flow depth               (m)    0.05\n",
    "Minimum speed                  (m/s)    0.1\n",
    "Momentum threshold          (kg m/s)    100.0\n",
    "Initial CFL number               (-)    0.8\n",
    "```"
   ]
  },
  {
   "cell_type": "markdown",
   "id": "a5a5f5dd-b373-4d9d-b36e-bf92e4d8d5ae",
   "metadata": {},
   "source": [
    "---"
   ]
  },
  {
   "cell_type": "markdown",
   "id": "0dff4bb7-38cb-4af5-a0bd-f6ee57429eaf",
   "metadata": {},
   "source": [
    "## Visualization of results"
   ]
  },
  {
   "cell_type": "markdown",
   "id": "efe7a77e-0bef-4c0b-ae3e-aecf14f07dd3",
   "metadata": {},
   "source": [
    "MoT-Voellmy prints information on the progress of the simulation to the screen (unless it is running within NAKSIN 4). This allows the user to judge whether there are any irregularities that require closer scrutiny.\n",
    "\n",
    "The simulation results are output as raster files:\n",
    "- The file format can be chosen in the run configuration file as `ESRI_ASCII_Grid` or `BinaryTerrain 1.3`. Both formats can be read by QGIS. BinaryTerrain 1.3 is read and written somewhat faster and the files are more compact, but ESRI ASCII Grid fies can usually be compressed better than BinaryTerrain 1.3 files.\n",
    "- Two types of files can be written to disk:\n",
    "    * *Time slices* showing the values of one field variable at a given time, e.g., $h(x_i, y_j, t_*)$, the flow depth at time $t_*$ in every grid cell $(i,j)$\n",
    "    * *Maximum values* of one field variable over the entire simulation, i.e., $\\max_{t_n} h(x_i,y_j, t_n)$ at each cell $(i,j)$\n",
    "- The initial conditions $h(x_i, y_j, t_0)$ and $s(x_i, y_j, t_0)$ and the maximum fields $h_{\\mathrm{max}}(x_i, y_j)$ and $s_{\\mathrm{max}}(x_i,y_j)$ are always written. $s = \\sqrt{u^2 + v^2}$ is the speed or celerity.\n",
    "- In addition, the user can which other variables among the velocity components $u$, $v$, the pressure $p$, the erodible snow-cover depth $b$ and the forest stand density $n$ should be output.\n",
    "- Time slices are written at times $k \\Delta t_{\\mathrm{out}}$, where $\\Delta t$ is the output interval in seconds. If this interval is smaller than the minimum timestep, time slices are written after each timestep. If $\\Delta_{mathrm{out}} is larger than the simulation time, only the initial, final and maximum values are written to file.\n",
    "\n",
    "How the results are visualized, will depend on the purpose of the simulation and personal preferences. Often it is helpful to load at least a topographic background map (if available), the DTM, the initial condition $h(x_i, y_j, t_0)$ and the maxima of $h$ and $s$. If no background map is available, contour lines can be created in QGIS from the DTM. (Raster – Extract – Contour, typically thin 10 m contour lines and thicker 100 m contour lines help the user grasp the terrain properties). To faciitate analysis of the results, suitable choices for the color palettes and the values of layer transparency should be found and saved as styles."
   ]
  },
  {
   "cell_type": "markdown",
   "id": "b2285455-755d-40b9-9e7a-58d372fcb625",
   "metadata": {},
   "source": [
    "---"
   ]
  },
  {
   "cell_type": "markdown",
   "id": "65800e17-93c0-4933-94d3-3660cf652483",
   "metadata": {},
   "source": [
    "To test whether MoT-Voellmy works correctly in your set-up, find the cell below that corresponds to your operating system, edit the path of the MoT-Voellmy executable, and run the cell. It may take a while (around a minute on some systems) before anything happens because the progress messages from MoT-Voellmy are not written to the screen before the end of the simulation if running the program within the Jupyter notebook.\n",
    "\n",
    "Alternatively, you can run the simulation from the command line of a terminal window. This will show the progress and may be faster."
   ]
  },
  {
   "cell_type": "markdown",
   "id": "4e08ffa5-8638-4445-9a00-8dcf65bb2ee2",
   "metadata": {},
   "source": [
    "In MS Windows, use the following cell:"
   ]
  },
  {
   "cell_type": "code",
   "execution_count": null,
   "id": "f60d6a5f-3289-4ca7-997b-163fdba60067",
   "metadata": {},
   "outputs": [],
   "source": [
    "! P:\\\\2021\\\\04\\\\20210451\\\\PD2_Japan_2023\\\\Online_module_2\\\\02_Programs\\\\02.6_Using_NAKSIN_4\\\\NAKSIN_4\\\\MoT-Voellmy-win64.2022-10-30.exe Test_case_MoT-Voellmy/Ryggfonn_1987-01-28_cst_noent.rcf"
   ]
  },
  {
   "cell_type": "markdown",
   "id": "25363884-23d0-4c70-95eb-edb144b4506b",
   "metadata": {},
   "source": [
    "With macOS, use this line:"
   ]
  },
  {
   "cell_type": "code",
   "execution_count": null,
   "id": "42c693ca-0c6e-4d8b-8eaf-b75c938f05e3",
   "metadata": {},
   "outputs": [],
   "source": [
    "! ../02.6_Using_NAKSIN_4/NAKSIN_4/MoT-Voellmy-macOS.2022-10-30 Test_case_MoT-Voellmy/Ryggfonn_1987-01-28_cst_noent.rcf"
   ]
  },
  {
   "cell_type": "markdown",
   "id": "bb912ed9-953a-4dca-aea5-c5a6cc3f8297",
   "metadata": {},
   "source": [
    "On Linux, run the cell below:"
   ]
  },
  {
   "cell_type": "code",
   "execution_count": null,
   "id": "1eab7546-1781-48b6-b660-a2da8c648bf4",
   "metadata": {},
   "outputs": [],
   "source": [
    "! ../02.6_Using_NAKSIN_4/NAKSIN_4/MoT-Voellmy-linux.2022-10-30 Test_case_MoT-Voellmy/Ryggfonn_1987-01-28_cst_noent.rcf"
   ]
  },
  {
   "cell_type": "markdown",
   "id": "6d6f9e63-7a6c-4ffe-a0a9-3ba0588ceecb",
   "metadata": {},
   "source": [
    "In the folder `Test_case_MoT-Voellmy`, there is a file `Ryggfonn.qgz`. Open it in QGIS to visualize your simulation results (there may be a warning that some files wee not found—press the button `Browse` to find them. You can add additional layers to view intermediate snapshots of the avalanche descent.\n",
    "\n",
    "If you wish to explore the code further, modify the RCF, save it under a different name and run it in a new cell. For example, to find out how the coefficient *k* affects the speed and run-out, choose another constant value for *k* or replace the values for *µ* and *k* by the names of the files contained in the same folder. MoT-Voellmy also allows modeling snow entrainment along the path. To see this in action, indicate the file names `RGF_1987-01-28_b0.asc`, `RGF_1987-01-28_tauc.asc` in lines 13 and 14, and set the value of `Entrainment` to `TJEM`. To study the effect of the fracture depth, you would need to modify the raster file `RGF_1987-01-28_h0.asc`, e.g., by loading the file into an editor and replacing all instances of \"1.0\" by some other fracture depth."
   ]
  }
 ],
 "metadata": {
  "kernelspec": {
   "display_name": "Python 3 (ipykernel)",
   "language": "python",
   "name": "python3"
  },
  "language_info": {
   "codemirror_mode": {
    "name": "ipython",
    "version": 3
   },
   "file_extension": ".py",
   "mimetype": "text/x-python",
   "name": "python",
   "nbconvert_exporter": "python",
   "pygments_lexer": "ipython3",
   "version": "3.9.5"
  }
 },
 "nbformat": 4,
 "nbformat_minor": 5
}
